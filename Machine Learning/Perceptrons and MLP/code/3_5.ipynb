{
  "nbformat": 4,
  "nbformat_minor": 0,
  "metadata": {
    "colab": {
      "provenance": []
    },
    "kernelspec": {
      "name": "python3",
      "display_name": "Python 3"
    },
    "language_info": {
      "name": "python"
    },
    "widgets": {
      "application/vnd.jupyter.widget-state+json": {
        "61e6b8feea13438eb7f4b4d87ecbf83c": {
          "model_module": "@jupyter-widgets/controls",
          "model_name": "HBoxModel",
          "model_module_version": "1.5.0",
          "state": {
            "_dom_classes": [],
            "_model_module": "@jupyter-widgets/controls",
            "_model_module_version": "1.5.0",
            "_model_name": "HBoxModel",
            "_view_count": null,
            "_view_module": "@jupyter-widgets/controls",
            "_view_module_version": "1.5.0",
            "_view_name": "HBoxView",
            "box_style": "",
            "children": [
              "IPY_MODEL_6cc46e0cc0204e25988be735e0d1359e",
              "IPY_MODEL_36c0ee279a1144039c3efdbc7ea1da43",
              "IPY_MODEL_a4647b3d6fbd43a6b647d3584c89aa1a"
            ],
            "layout": "IPY_MODEL_c97d38b6871041b3aeec6d1684baa262"
          }
        },
        "6cc46e0cc0204e25988be735e0d1359e": {
          "model_module": "@jupyter-widgets/controls",
          "model_name": "HTMLModel",
          "model_module_version": "1.5.0",
          "state": {
            "_dom_classes": [],
            "_model_module": "@jupyter-widgets/controls",
            "_model_module_version": "1.5.0",
            "_model_name": "HTMLModel",
            "_view_count": null,
            "_view_module": "@jupyter-widgets/controls",
            "_view_module_version": "1.5.0",
            "_view_name": "HTMLView",
            "description": "",
            "description_tooltip": null,
            "layout": "IPY_MODEL_eacf55d6f1e443e499e49ef97bc1fea5",
            "placeholder": "​",
            "style": "IPY_MODEL_d81a11d0f48e4e6681857b5fc2cd237e",
            "value": "100%"
          }
        },
        "36c0ee279a1144039c3efdbc7ea1da43": {
          "model_module": "@jupyter-widgets/controls",
          "model_name": "FloatProgressModel",
          "model_module_version": "1.5.0",
          "state": {
            "_dom_classes": [],
            "_model_module": "@jupyter-widgets/controls",
            "_model_module_version": "1.5.0",
            "_model_name": "FloatProgressModel",
            "_view_count": null,
            "_view_module": "@jupyter-widgets/controls",
            "_view_module_version": "1.5.0",
            "_view_name": "ProgressView",
            "bar_style": "success",
            "description": "",
            "description_tooltip": null,
            "layout": "IPY_MODEL_fa54dabbde3648a5871134202158ed5e",
            "max": 170498071,
            "min": 0,
            "orientation": "horizontal",
            "style": "IPY_MODEL_121e9ee97b0f4f7cba7dbc21ac67ae14",
            "value": 170498071
          }
        },
        "a4647b3d6fbd43a6b647d3584c89aa1a": {
          "model_module": "@jupyter-widgets/controls",
          "model_name": "HTMLModel",
          "model_module_version": "1.5.0",
          "state": {
            "_dom_classes": [],
            "_model_module": "@jupyter-widgets/controls",
            "_model_module_version": "1.5.0",
            "_model_name": "HTMLModel",
            "_view_count": null,
            "_view_module": "@jupyter-widgets/controls",
            "_view_module_version": "1.5.0",
            "_view_name": "HTMLView",
            "description": "",
            "description_tooltip": null,
            "layout": "IPY_MODEL_74751503d4034951851caac6ee766e16",
            "placeholder": "​",
            "style": "IPY_MODEL_a7c5ead37b914008a570889dab99eb86",
            "value": " 170498071/170498071 [00:06&lt;00:00, 25231734.50it/s]"
          }
        },
        "c97d38b6871041b3aeec6d1684baa262": {
          "model_module": "@jupyter-widgets/base",
          "model_name": "LayoutModel",
          "model_module_version": "1.2.0",
          "state": {
            "_model_module": "@jupyter-widgets/base",
            "_model_module_version": "1.2.0",
            "_model_name": "LayoutModel",
            "_view_count": null,
            "_view_module": "@jupyter-widgets/base",
            "_view_module_version": "1.2.0",
            "_view_name": "LayoutView",
            "align_content": null,
            "align_items": null,
            "align_self": null,
            "border": null,
            "bottom": null,
            "display": null,
            "flex": null,
            "flex_flow": null,
            "grid_area": null,
            "grid_auto_columns": null,
            "grid_auto_flow": null,
            "grid_auto_rows": null,
            "grid_column": null,
            "grid_gap": null,
            "grid_row": null,
            "grid_template_areas": null,
            "grid_template_columns": null,
            "grid_template_rows": null,
            "height": null,
            "justify_content": null,
            "justify_items": null,
            "left": null,
            "margin": null,
            "max_height": null,
            "max_width": null,
            "min_height": null,
            "min_width": null,
            "object_fit": null,
            "object_position": null,
            "order": null,
            "overflow": null,
            "overflow_x": null,
            "overflow_y": null,
            "padding": null,
            "right": null,
            "top": null,
            "visibility": null,
            "width": null
          }
        },
        "eacf55d6f1e443e499e49ef97bc1fea5": {
          "model_module": "@jupyter-widgets/base",
          "model_name": "LayoutModel",
          "model_module_version": "1.2.0",
          "state": {
            "_model_module": "@jupyter-widgets/base",
            "_model_module_version": "1.2.0",
            "_model_name": "LayoutModel",
            "_view_count": null,
            "_view_module": "@jupyter-widgets/base",
            "_view_module_version": "1.2.0",
            "_view_name": "LayoutView",
            "align_content": null,
            "align_items": null,
            "align_self": null,
            "border": null,
            "bottom": null,
            "display": null,
            "flex": null,
            "flex_flow": null,
            "grid_area": null,
            "grid_auto_columns": null,
            "grid_auto_flow": null,
            "grid_auto_rows": null,
            "grid_column": null,
            "grid_gap": null,
            "grid_row": null,
            "grid_template_areas": null,
            "grid_template_columns": null,
            "grid_template_rows": null,
            "height": null,
            "justify_content": null,
            "justify_items": null,
            "left": null,
            "margin": null,
            "max_height": null,
            "max_width": null,
            "min_height": null,
            "min_width": null,
            "object_fit": null,
            "object_position": null,
            "order": null,
            "overflow": null,
            "overflow_x": null,
            "overflow_y": null,
            "padding": null,
            "right": null,
            "top": null,
            "visibility": null,
            "width": null
          }
        },
        "d81a11d0f48e4e6681857b5fc2cd237e": {
          "model_module": "@jupyter-widgets/controls",
          "model_name": "DescriptionStyleModel",
          "model_module_version": "1.5.0",
          "state": {
            "_model_module": "@jupyter-widgets/controls",
            "_model_module_version": "1.5.0",
            "_model_name": "DescriptionStyleModel",
            "_view_count": null,
            "_view_module": "@jupyter-widgets/base",
            "_view_module_version": "1.2.0",
            "_view_name": "StyleView",
            "description_width": ""
          }
        },
        "fa54dabbde3648a5871134202158ed5e": {
          "model_module": "@jupyter-widgets/base",
          "model_name": "LayoutModel",
          "model_module_version": "1.2.0",
          "state": {
            "_model_module": "@jupyter-widgets/base",
            "_model_module_version": "1.2.0",
            "_model_name": "LayoutModel",
            "_view_count": null,
            "_view_module": "@jupyter-widgets/base",
            "_view_module_version": "1.2.0",
            "_view_name": "LayoutView",
            "align_content": null,
            "align_items": null,
            "align_self": null,
            "border": null,
            "bottom": null,
            "display": null,
            "flex": null,
            "flex_flow": null,
            "grid_area": null,
            "grid_auto_columns": null,
            "grid_auto_flow": null,
            "grid_auto_rows": null,
            "grid_column": null,
            "grid_gap": null,
            "grid_row": null,
            "grid_template_areas": null,
            "grid_template_columns": null,
            "grid_template_rows": null,
            "height": null,
            "justify_content": null,
            "justify_items": null,
            "left": null,
            "margin": null,
            "max_height": null,
            "max_width": null,
            "min_height": null,
            "min_width": null,
            "object_fit": null,
            "object_position": null,
            "order": null,
            "overflow": null,
            "overflow_x": null,
            "overflow_y": null,
            "padding": null,
            "right": null,
            "top": null,
            "visibility": null,
            "width": null
          }
        },
        "121e9ee97b0f4f7cba7dbc21ac67ae14": {
          "model_module": "@jupyter-widgets/controls",
          "model_name": "ProgressStyleModel",
          "model_module_version": "1.5.0",
          "state": {
            "_model_module": "@jupyter-widgets/controls",
            "_model_module_version": "1.5.0",
            "_model_name": "ProgressStyleModel",
            "_view_count": null,
            "_view_module": "@jupyter-widgets/base",
            "_view_module_version": "1.2.0",
            "_view_name": "StyleView",
            "bar_color": null,
            "description_width": ""
          }
        },
        "74751503d4034951851caac6ee766e16": {
          "model_module": "@jupyter-widgets/base",
          "model_name": "LayoutModel",
          "model_module_version": "1.2.0",
          "state": {
            "_model_module": "@jupyter-widgets/base",
            "_model_module_version": "1.2.0",
            "_model_name": "LayoutModel",
            "_view_count": null,
            "_view_module": "@jupyter-widgets/base",
            "_view_module_version": "1.2.0",
            "_view_name": "LayoutView",
            "align_content": null,
            "align_items": null,
            "align_self": null,
            "border": null,
            "bottom": null,
            "display": null,
            "flex": null,
            "flex_flow": null,
            "grid_area": null,
            "grid_auto_columns": null,
            "grid_auto_flow": null,
            "grid_auto_rows": null,
            "grid_column": null,
            "grid_gap": null,
            "grid_row": null,
            "grid_template_areas": null,
            "grid_template_columns": null,
            "grid_template_rows": null,
            "height": null,
            "justify_content": null,
            "justify_items": null,
            "left": null,
            "margin": null,
            "max_height": null,
            "max_width": null,
            "min_height": null,
            "min_width": null,
            "object_fit": null,
            "object_position": null,
            "order": null,
            "overflow": null,
            "overflow_x": null,
            "overflow_y": null,
            "padding": null,
            "right": null,
            "top": null,
            "visibility": null,
            "width": null
          }
        },
        "a7c5ead37b914008a570889dab99eb86": {
          "model_module": "@jupyter-widgets/controls",
          "model_name": "DescriptionStyleModel",
          "model_module_version": "1.5.0",
          "state": {
            "_model_module": "@jupyter-widgets/controls",
            "_model_module_version": "1.5.0",
            "_model_name": "DescriptionStyleModel",
            "_view_count": null,
            "_view_module": "@jupyter-widgets/base",
            "_view_module_version": "1.2.0",
            "_view_name": "StyleView",
            "description_width": ""
          }
        }
      }
    }
  },
  "cells": [
    {
      "cell_type": "code",
      "source": [
        "\n",
        "import torch\n",
        "import torchvision\n",
        "import torchvision.transforms as transforms\n",
        "import tensorflow as tf\n",
        "import numpy as np\n",
        "import matplotlib.pyplot as plt\n",
        "\n",
        "import cv2\n",
        "import sklearn\n",
        "import torch.nn as nn\n",
        "import torch.nn.functional as F\n",
        "\n",
        "from torch.nn import Module\n",
        "from torch.nn import Conv2d\n",
        "from torch.nn import Linear\n",
        "from torch.nn import MaxPool2d\n",
        "from torch.nn import ReLU\n",
        "from torch.nn import LogSoftmax\n",
        "from torch.utils.data import DataLoader, TensorDataset\n",
        "\n",
        "from torch.autograd import Variable"
      ],
      "metadata": {
        "id": "W9HE7ZBvOsnJ"
      },
      "execution_count": 14,
      "outputs": []
    },
    {
      "cell_type": "code",
      "source": [
        "\n",
        "transform = transforms.Compose(\n",
        "    [transforms.ToTensor(),\n",
        "     transforms.Normalize((0.5, 0.5, 0.5), (0.5, 0.5, 0.5))])\n",
        "\n",
        "trainset = torchvision.datasets.CIFAR10(root='./data', train=True,\n",
        "                                        download=True, transform=transform)\n",
        "trainloader = torch.utils.data.DataLoader(trainset, batch_size=10,\n",
        "                                          shuffle=True, num_workers=2)\n",
        "testset = torchvision.datasets.CIFAR10(root='./data', train=False,\n",
        "                                       download=True, transform=transform)\n",
        "testloader = torch.utils.data.DataLoader(testset, batch_size=10,\n",
        "                                         shuffle=False, num_workers=2)"
      ],
      "metadata": {
        "colab": {
          "base_uri": "https://localhost:8080/",
          "height": 101,
          "referenced_widgets": [
            "61e6b8feea13438eb7f4b4d87ecbf83c",
            "6cc46e0cc0204e25988be735e0d1359e",
            "36c0ee279a1144039c3efdbc7ea1da43",
            "a4647b3d6fbd43a6b647d3584c89aa1a",
            "c97d38b6871041b3aeec6d1684baa262",
            "eacf55d6f1e443e499e49ef97bc1fea5",
            "d81a11d0f48e4e6681857b5fc2cd237e",
            "fa54dabbde3648a5871134202158ed5e",
            "121e9ee97b0f4f7cba7dbc21ac67ae14",
            "74751503d4034951851caac6ee766e16",
            "a7c5ead37b914008a570889dab99eb86"
          ]
        },
        "id": "slD40iNZQIv4",
        "outputId": "44afc455-5875-4715-da88-9f621494c41d"
      },
      "execution_count": 15,
      "outputs": [
        {
          "output_type": "stream",
          "name": "stdout",
          "text": [
            "Downloading https://www.cs.toronto.edu/~kriz/cifar-10-python.tar.gz to ./data/cifar-10-python.tar.gz\n"
          ]
        },
        {
          "output_type": "display_data",
          "data": {
            "text/plain": [
              "  0%|          | 0/170498071 [00:00<?, ?it/s]"
            ],
            "application/vnd.jupyter.widget-view+json": {
              "version_major": 2,
              "version_minor": 0,
              "model_id": "61e6b8feea13438eb7f4b4d87ecbf83c"
            }
          },
          "metadata": {}
        },
        {
          "output_type": "stream",
          "name": "stdout",
          "text": [
            "Extracting ./data/cifar-10-python.tar.gz to ./data\n",
            "Files already downloaded and verified\n"
          ]
        }
      ]
    },
    {
      "cell_type": "code",
      "execution_count": 16,
      "metadata": {
        "id": "ok3mtuXmOXKn"
      },
      "outputs": [],
      "source": [
        "\n",
        "\n",
        "num_epochs = 4\n",
        "batch_size = 4\n",
        "learning_rate = 0.001\n",
        "class CNN(nn.Module):\n",
        "  def __init__(self, inputs=2, outputs=1, hidden = 64):\n",
        "    #call the super class\n",
        "    super(CNN, self).__init__()\n",
        "    #here we construct the functions used in the network\n",
        "\n",
        "    #layer 1\n",
        "    self.conv1 = Conv2d(in_channels=3, out_channels=20, kernel_size=(3, 3))\n",
        "    \n",
        "    #out image = (32-3) +1 after pooling -> 15\n",
        "    #layer 2\n",
        "    self.conv2 = Conv2d(in_channels=20, out_channels=16, kernel_size=(3, 3))\n",
        "\n",
        "    #out image = 15-3 +1 \n",
        "    #layer 3\n",
        "    self.fc1 = Linear(in_features=16*13*13, out_features=256)\n",
        "\n",
        "    #layer 4\n",
        "    self.fc2 = Linear(in_features=256, out_features=10)\n",
        "\n",
        "    #pooling functions\n",
        "    self.pool = MaxPool2d(kernel_size=(2, 2), stride=(2, 2))\n",
        "\n",
        "  def forward(self, x):\n",
        "    #pass the input through the layers\n",
        "    x = self.pool(F.relu(self.conv1(x))) #layer 1\n",
        "    x =(F.relu(self.conv2(x))) #layer 2\n",
        "\n",
        "    x = torch.flatten(x, 1)\n",
        "\n",
        "    x = self.fc1(x)\n",
        "    x = self.fc2(x)\n",
        "\n",
        "    return x\n",
        "\n",
        "\n",
        "\n"
      ]
    },
    {
      "cell_type": "code",
      "source": [
        "import warnings\n",
        "import torch.optim as optim\n",
        "\n",
        "net = CNN()\n",
        "device = torch.device('cuda:0' if torch.cuda.is_available() else 'cpu')\n",
        "net.to(device)\n",
        "\n",
        "\n",
        "#declare loss function\n",
        "loss_fn = nn.CrossEntropyLoss()\n",
        "optimizer = optim.SGD(net.parameters(), lr=0.001, momentum=0.9)\n",
        "\n",
        "\n",
        "#loop over our data iterator and feed the inputs to the network and optimize.\n",
        "loss_array = []\n",
        "\n",
        "for epoch in range(5):  # loop over the dataset multiple times\n",
        "\n",
        "    running_loss = 0.0\n",
        "    for i, data in enumerate(trainloader, 0):\n",
        "        # get the inputs; data is a list of [inputs, labels]\n",
        "        x_tensor, y_tensor = data\n",
        "\n",
        "        # zero the parameter gradients since we are at new epoch\n",
        "        optimizer.zero_grad()\n",
        "\n",
        "        \n",
        "\n",
        "        #forward step\n",
        "        outputs = net(x_tensor)\n",
        "\n",
        "        loss = loss_fn(outputs, y_tensor) #calculate loss\n",
        "\n",
        "\n",
        "        \n",
        "        #backward step\n",
        "        loss.backward()\n",
        "        \n",
        "        #optimize\n",
        "        optimizer.step()\n",
        "\n",
        "        # print statistics\n",
        "        running_loss += loss.item()\n",
        "\n",
        "\n",
        "        \n",
        "        if i % 2000 == 1999:    # print every 2000 mini-batches\n",
        "            print(f'[{epoch + 1}, {i + 1:5d}] loss: {running_loss / 2000:.3f}')\n",
        "            loss_array = np.append(loss_array, running_loss/2000)\n",
        "            running_loss = 0.0\n",
        "\n",
        "\n",
        "\n"
      ],
      "metadata": {
        "colab": {
          "base_uri": "https://localhost:8080/"
        },
        "id": "XIVp317AOZV1",
        "outputId": "a7f7f994-8196-402c-dc20-2e02e52d76b5"
      },
      "execution_count": 23,
      "outputs": [
        {
          "output_type": "stream",
          "name": "stdout",
          "text": [
            "[1,  2000] loss: 1.818\n",
            "[1,  4000] loss: 1.435\n",
            "[2,  2000] loss: 1.269\n",
            "[2,  4000] loss: 1.215\n",
            "[3,  2000] loss: 1.119\n",
            "[3,  4000] loss: 1.106\n",
            "[4,  2000] loss: 1.021\n",
            "[4,  4000] loss: 1.019\n",
            "[5,  2000] loss: 0.975\n",
            "[5,  4000] loss: 0.968\n"
          ]
        }
      ]
    },
    {
      "cell_type": "code",
      "source": [
        "\n",
        "\n",
        "plt.plot(loss_array)\n",
        "plt.xticks(np.arange(10))\n",
        "\n",
        "plt.ylabel('loss')\n",
        "plt.xlabel('epoch')"
      ],
      "metadata": {
        "colab": {
          "base_uri": "https://localhost:8080/",
          "height": 296
        },
        "id": "EUh0BdJX7QuD",
        "outputId": "d961bbe0-caa3-4225-8343-14ac0db223d0"
      },
      "execution_count": 25,
      "outputs": [
        {
          "output_type": "execute_result",
          "data": {
            "text/plain": [
              "Text(0.5, 0, 'epoch')"
            ]
          },
          "metadata": {},
          "execution_count": 25
        },
        {
          "output_type": "display_data",
          "data": {
            "text/plain": [
              "<Figure size 432x288 with 1 Axes>"
            ],
            "image/png": "[encoded data removed]"
          },
          "metadata": {
            "needs_background": "light"
          }
        }
      ]
    },
    {
      "cell_type": "code",
      "source": [
        "total = 0;\n",
        "correct = 0;\n",
        "with torch.no_grad():\n",
        "      for data in testloader:\n",
        "          images, labels = data\n",
        "          #print(labels)\n",
        "          # calculate outputs by running images through the network\n",
        "          outputs = net(images)\n",
        "          #print(outputs)\n",
        "          _, predicted = torch.max(outputs.data, 1)\n",
        "          total += labels.size(0)\n",
        "          correct += (predicted == labels).sum().item()\n",
        "\n",
        "print(f'Accuracy of the network on the 10000 test images: {100*correct/total} %')\n",
        "\n",
        "total = 0;\n",
        "correct = 0;\n",
        "with torch.no_grad():\n",
        "      for data in trainloader:\n",
        "          images, labels = data\n",
        "          #print(labels)\n",
        "          # calculate outputs by running images through the network\n",
        "          outputs = net(images)\n",
        "          #print(outputs)\n",
        "          _, predicted = torch.max(outputs.data, 1)\n",
        "          total += labels.size(0)\n",
        "          correct += (predicted == labels).sum().item()\n",
        "\n",
        "print(f'Accuracy of the network on the 50000 train images: {100*correct/total} %')"
      ],
      "metadata": {
        "colab": {
          "base_uri": "https://localhost:8080/"
        },
        "id": "LEvVZeFoQhWD",
        "outputId": "4557f2b7-cc81-490d-a382-f1703a66b6fe"
      },
      "execution_count": null,
      "outputs": [
        {
          "output_type": "stream",
          "name": "stdout",
          "text": [
            "Accuracy of the network on the 10000 test images: 64.41 %\n",
            "Accuracy of the network on the 50000 train images: 67.674 %\n"
          ]
        }
      ]
    },
    {
      "cell_type": "code",
      "source": [
        "%pip install patool\n",
        "import patoolib\n",
        "import pandas as pd\n",
        "import numpy as np\n",
        "import requests\n",
        "import os\n",
        "from keras.datasets import cifar10\n",
        "import cv2\n",
        "\n",
        "from keras.utils.np_utils import to_categorical   \n",
        "\n",
        "\n",
        "(X_train, y_train), (X_test, y_test) = cifar10.load_data()\n",
        "\n",
        "cifar_classes = ['airplane', 'automobile', 'bird', 'cat', 'deer', 'dog', 'frog', 'horse', 'ship', 'truck']\n",
        "\n",
        "# Transform label indices to one-hot encoded vectors\n",
        "\n",
        "y_train = to_categorical(y_train, num_classes=10)\n",
        "y_test = to_categorical(y_test, num_classes=10)\n",
        "\n",
        "# Transform images from (32,32,3) to 3072-dimensional vectors (32*32*3) (flatten the arrays)\n",
        "\n",
        "X_train = np.reshape(X_train,(50000,3072))\n",
        "X_test = np.reshape(X_test,(10000,3072))\n",
        "X_train = X_train.astype('float32')\n",
        "X_test = X_test.astype('float32')\n",
        "\n",
        "# zero-centering of pixel values using mean FROM THE TRAINING SET (IMPORTANT)\n",
        "\n",
        "X_train -= np.mean(X_train, axis = 0)\n",
        "X_test -= np.mean(X_train, axis = 0)\n",
        "\n",
        "#Unnormalized set\n",
        "X_train_unnormalized = X_train\n",
        "\n",
        "# Normalization of RGB pixel values (to [0-1] range)\n",
        "\n",
        "X_train /= 255\n",
        "X_test /= 255\n",
        "\n",
        "\n",
        "#get the training data covariance matrix\n",
        "\n",
        "cov = np.dot(X_train.T, X_train) / X_train.shape[0]\n",
        "\n",
        "#compute the SVD factorization of the data covariance matrix\n",
        "\n",
        "U,S,V = np.linalg.svd(cov)\n",
        "\n",
        "#Decorrelate the data \n",
        "\n",
        "X_train_rot = np.dot(X_train, U) \n",
        "X_test_rot = np.dot(X_test, U) \n",
        "\n",
        "#Xrot_reduced becomes [N x 100] (PCA DIMENSION REDUCTION)\n",
        "\n",
        "#X_train_rot_reduced = np.dot(X_train_rot, U[:,:100])\n",
        "#X_test_rot_reduced = np.dot(X_test_rot, U[:,:100]) \n",
        "\n",
        "##Data Whitening (On the PCA filtered data)\n",
        "\n",
        "epsilon = 1e-5\n",
        "\n",
        "#Divide by the eigenvalues (which are square roots of the singular values) P.S smoothing data by choosing a larger epsilon\n",
        "Xwhite_train = X_train_rot / np.sqrt(S + epsilon)\n",
        "Xwhite_test = X_test_rot / np.sqrt(S + epsilon)\n",
        "\n",
        "x_train=Xwhite_train.reshape(50000, 32, 32, 3)\n",
        "x_test=Xwhite_test.reshape(10000, 32, 32, 3)"
      ],
      "metadata": {
        "colab": {
          "base_uri": "https://localhost:8080/"
        },
        "id": "bGDxx1ABgqGO",
        "outputId": "965189c0-48fc-4ebe-9e82-88c511da2491"
      },
      "execution_count": null,
      "outputs": [
        {
          "output_type": "stream",
          "name": "stdout",
          "text": [
            "Looking in indexes: https://pypi.org/simple, https://us-python.pkg.dev/colab-wheels/public/simple/\n",
            "Collecting patool\n",
            "  Downloading patool-1.12-py2.py3-none-any.whl (77 kB)\n",
            "\u001b[2K     \u001b[90m━━━━━━━━━━━━━━━━━━━━━━━━━━━━━━━━━━━━━━━━\u001b[0m \u001b[32m77.5/77.5 KB\u001b[0m \u001b[31m6.0 MB/s\u001b[0m eta \u001b[36m0:00:00\u001b[0m\n",
            "\u001b[?25hInstalling collected packages: patool\n",
            "Successfully installed patool-1.12\n",
            "Downloading data from https://www.cs.toronto.edu/~kriz/cifar-10-python.tar.gz\n",
            "170498071/170498071 [==============================] - 6s 0us/step\n"
          ]
        }
      ]
    },
    {
      "cell_type": "code",
      "source": [
        "import tensorflow as tf\n",
        "from tensorflow.keras.applications.resnet50 import ResNet50\n",
        "import tensorflow as tf\n",
        "from tensorflow.keras import layers\n",
        "from tensorflow.keras.models import Sequential\n",
        "\n",
        "model = Sequential()\n",
        "model.add(layers.Conv2D(filters = 32, kernel_size = 5, activation = 'relu', input_shape = (32, 32, 3)))\n",
        "\n",
        "model.add(layers.MaxPooling2D(pool_size = (2, 2)))\n",
        "model.add(layers.Conv2D(filters = 20, kernel_size = 3, activation = 'relu'))\n",
        "model.add(layers.MaxPooling2D(pool_size = (2, 2)))\n",
        "\n",
        "model.add(layers.Flatten())\n",
        "model.add(layers.Dense(units = 256, activation = 'relu'))\n",
        "model.add(layers.Dense(units = 10, activation = 'relu'))\n",
        "\n",
        "model.compile(loss = 'categorical_crossentropy', optimizer = 'adam', metrics = ['accuracy'])"
      ],
      "metadata": {
        "id": "ezsrY8g6k0Dd"
      },
      "execution_count": null,
      "outputs": []
    },
    {
      "cell_type": "code",
      "source": [
        "model.fit(x_train, y_train, epochs=10, batch_size=32, validation_data=(x_test, y_test))"
      ],
      "metadata": {
        "colab": {
          "base_uri": "https://localhost:8080/"
        },
        "id": "xruaZ-1il53_",
        "outputId": "aa64adee-25f3-45be-bd2d-d254660e2b48"
      },
      "execution_count": null,
      "outputs": [
        {
          "output_type": "stream",
          "name": "stdout",
          "text": [
            "Epoch 1/10\n",
            "1563/1563 [==============================] - 88s 55ms/step - loss: 6.1979 - accuracy: 0.1391 - val_loss: 6.1604 - val_accuracy: 0.1581\n",
            "Epoch 2/10\n",
            "1563/1563 [==============================] - 70s 45ms/step - loss: 6.1589 - accuracy: 0.1522 - val_loss: 6.1431 - val_accuracy: 0.1747\n",
            "Epoch 3/10\n",
            "1563/1563 [==============================] - 77s 49ms/step - loss: 6.1452 - accuracy: 0.1645 - val_loss: 6.1302 - val_accuracy: 0.1774\n",
            "Epoch 4/10\n",
            "1563/1563 [==============================] - 70s 45ms/step - loss: 6.1396 - accuracy: 0.1655 - val_loss: 6.1392 - val_accuracy: 0.1803\n",
            "Epoch 5/10\n",
            "1563/1563 [==============================] - 71s 45ms/step - loss: 6.1150 - accuracy: 0.1864 - val_loss: 6.1109 - val_accuracy: 0.1917\n",
            "Epoch 6/10\n",
            "1563/1563 [==============================] - 69s 44ms/step - loss: 6.1351 - accuracy: 0.1671 - val_loss: 6.1094 - val_accuracy: 0.1839\n",
            "Epoch 7/10\n",
            "1563/1563 [==============================] - 70s 45ms/step - loss: 6.1445 - accuracy: 0.1548 - val_loss: 6.1540 - val_accuracy: 0.1543\n",
            "Epoch 8/10\n",
            "1563/1563 [==============================] - 70s 45ms/step - loss: 6.1175 - accuracy: 0.1835 - val_loss: 6.0966 - val_accuracy: 0.1953\n",
            "Epoch 9/10\n",
            "1563/1563 [==============================] - 72s 46ms/step - loss: 6.1063 - accuracy: 0.1847 - val_loss: 6.1080 - val_accuracy: 0.1979\n",
            "Epoch 10/10\n",
            "1563/1563 [==============================] - 70s 45ms/step - loss: 6.1199 - accuracy: 0.1846 - val_loss: 6.1276 - val_accuracy: 0.1841\n"
          ]
        },
        {
          "output_type": "execute_result",
          "data": {
            "text/plain": [
              "<keras.callbacks.History at 0x7fb4cd06c850>"
            ]
          },
          "metadata": {},
          "execution_count": 4
        }
      ]
    },
    {
      "cell_type": "code",
      "source": [
        "import numpy as np\n",
        "import matplotlib.pyplot as plt\n",
        "\n",
        "train_accuracy = [0.1391,0.1522,0.1645,0.1655,0.1864,0.1671,0.1548, 0.1835, 0.1847,0.1846]\n",
        "test_accuracy = [0.1581,0.1747,0.1774,0.1803,0.1917,0.1839,0.1543,0.1953,0.1979,0.1841]\n",
        "\n",
        "plt.plot(train_accuracy)\n",
        "plt.plot(test_accuracy)\n",
        "plt.xticks(np.arange(10))\n",
        "plt.legend(['train', 'test'])\n",
        "plt.ylabel('accuracy')\n",
        "plt.xlabel('epoch')"
      ],
      "metadata": {
        "id": "4NKd866DnVgd",
        "colab": {
          "base_uri": "https://localhost:8080/",
          "height": 298
        },
        "outputId": "80f3f931-e602-4231-beca-04e9c23f839d"
      },
      "execution_count": 6,
      "outputs": [
        {
          "output_type": "execute_result",
          "data": {
            "text/plain": [
              "Text(0.5, 0, 'epoch')"
            ]
          },
          "metadata": {},
          "execution_count": 6
        },
        {
          "output_type": "display_data",
          "data": {
            "text/plain": [
              "<Figure size 432x288 with 1 Axes>"
            ],
            "image/png": "[encoded data removed]"
          },
          "metadata": {
            "needs_background": "light"
          }
        }
      ]
    },
    {
      "cell_type": "code",
      "source": [
        "(train_images, train_labels), (test_images, test_labels) = tf.keras.datasets.cifar10.load_data()\n",
        "train_labels = tf.keras.utils.to_categorical(train_labels)\n",
        "test_labels = tf.keras.utils.to_categorical(test_labels)\n",
        "\n",
        "model.fit(train_images, train_labels, epochs=10, batch_size=32, validation_data=(test_images, test_labels))\n",
        "\n"
      ],
      "metadata": {
        "id": "8Vpu72Csmh22",
        "colab": {
          "base_uri": "https://localhost:8080/"
        },
        "outputId": "ff824abe-0071-4399-e1d0-babe1a3c2950"
      },
      "execution_count": 17,
      "outputs": [
        {
          "output_type": "stream",
          "name": "stdout",
          "text": [
            "Epoch 1/10\n",
            "1563/1563 [==============================] - 66s 42ms/step - loss: 2.1262 - accuracy: 0.1829 - val_loss: 2.0623 - val_accuracy: 0.2412\n",
            "Epoch 2/10\n",
            "1563/1563 [==============================] - 67s 43ms/step - loss: 2.0316 - accuracy: 0.2575 - val_loss: 1.9380 - val_accuracy: 0.2578\n",
            "Epoch 3/10\n",
            "1563/1563 [==============================] - 67s 43ms/step - loss: 2.0006 - accuracy: 0.2690 - val_loss: 2.1736 - val_accuracy: 0.2052\n",
            "Epoch 4/10\n",
            "1563/1563 [==============================] - 66s 42ms/step - loss: 2.0565 - accuracy: 0.2330 - val_loss: 1.9075 - val_accuracy: 0.2938\n",
            "Epoch 5/10\n",
            "1563/1563 [==============================] - 66s 42ms/step - loss: 1.9731 - accuracy: 0.3149 - val_loss: 1.9054 - val_accuracy: 0.3121\n",
            "Epoch 6/10\n",
            "1563/1563 [==============================] - 68s 43ms/step - loss: 1.9268 - accuracy: 0.3146 - val_loss: 1.9142 - val_accuracy: 0.3754\n",
            "Epoch 7/10\n",
            "1563/1563 [==============================] - 66s 42ms/step - loss: 1.9366 - accuracy: 0.3050 - val_loss: 2.1826 - val_accuracy: 0.2984\n",
            "Epoch 8/10\n",
            "1563/1563 [==============================] - 67s 43ms/step - loss: 1.9781 - accuracy: 0.3223 - val_loss: 2.1910 - val_accuracy: 0.1060\n",
            "Epoch 9/10\n",
            "1563/1563 [==============================] - 65s 42ms/step - loss: 1.9865 - accuracy: 0.2677 - val_loss: 1.8716 - val_accuracy: 0.3108\n",
            "Epoch 10/10\n",
            "1563/1563 [==============================] - 67s 43ms/step - loss: 1.9486 - accuracy: 0.2893 - val_loss: 2.1818 - val_accuracy: 0.1069\n"
          ]
        },
        {
          "output_type": "execute_result",
          "data": {
            "text/plain": [
              "<keras.callbacks.History at 0x7fb440494fa0>"
            ]
          },
          "metadata": {},
          "execution_count": 17
        }
      ]
    },
    {
      "cell_type": "code",
      "source": [
        "import matplotlib.pyplot as plt\n",
        "import numpy as np\n",
        "train_accuracy = [0.1829,0.2575,0.2690,0.2330,0.3149,0.3146,0.3050,0.3223,0.2677,0.2893]\n",
        "test_accuracy = [0.2412,0.2578,0.2052,0.2938,0.3121,0.3754,0.2984,0.1060,0.3108,0.1069]\n",
        "\n",
        "plt.plot(train_accuracy)\n",
        "plt.plot(test_accuracy)\n",
        "plt.xticks(np.arange(10))\n",
        "plt.legend(['train', 'test'])\n",
        "plt.ylabel('accuracy')\n",
        "plt.xlabel('epoch')"
      ],
      "metadata": {
        "id": "hedh2omGy2cG",
        "colab": {
          "base_uri": "https://localhost:8080/",
          "height": 296
        },
        "outputId": "38868189-0d40-4fcc-b34e-1727d08e9299"
      },
      "execution_count": 5,
      "outputs": [
        {
          "output_type": "execute_result",
          "data": {
            "text/plain": [
              "Text(0.5, 0, 'epoch')"
            ]
          },
          "metadata": {},
          "execution_count": 5
        },
        {
          "output_type": "display_data",
          "data": {
            "text/plain": [
              "<Figure size 432x288 with 1 Axes>"
            ],
            "image/png": "[encoded data removed]"
          },
          "metadata": {
            "needs_background": "light"
          }
        }
      ]
    },
    {
      "cell_type": "code",
      "source": [],
      "metadata": {
        "id": "z7bkxWxZ4-av"
      },
      "execution_count": null,
      "outputs": []
    },
    {
      "cell_type": "code",
      "source": [
        "\n",
        "\n",
        "\n",
        "\n",
        "import tensorflow as tf\n",
        "from tensorflow.keras.applications.resnet50 import ResNet50\n",
        "import tensorflow as tf\n",
        "from tensorflow.keras import layers\n",
        "from tensorflow.keras.models import Sequential\n",
        "\n",
        "(train_images, train_labels), (test_images, test_labels) = tf.keras.datasets.cifar10.load_data()\n",
        "train_labels = tf.keras.utils.to_categorical(train_labels)\n",
        "test_labels = tf.keras.utils.to_categorical(test_labels)\n",
        "\n",
        "model = Sequential()\n",
        "model.add(layers.Conv2D(filters = 32, kernel_size = 3, activation = 'relu', input_shape = (32, 32, 3)))\n",
        "\n",
        "model.add(layers.MaxPooling2D(pool_size = (2, 2)))\n",
        "model.add(layers.Conv2D(filters = 16, kernel_size = 3, activation = 'relu'))\n",
        "model.add(layers.MaxPooling2D(pool_size = (2, 2)))\n",
        "\n",
        "model.add(layers.Flatten())\n",
        "model.add(layers.Dense(units = 256, activation = 'relu'))\n",
        "model.add(layers.Dense(units = 10, activation = 'relu'))\n",
        "\n",
        "model.compile(loss = 'categorical_crossentropy', optimizer = 'adam', metrics = ['accuracy'])\n",
        "\n",
        "model.fit(train_images, train_labels, epochs=10, batch_size=32, validation_data=(test_images, test_labels))\n"
      ],
      "metadata": {
        "colab": {
          "base_uri": "https://localhost:8080/"
        },
        "outputId": "f1dcab91-f149-454f-961b-b6158af5afdc",
        "id": "mDzBwNh45BY2"
      },
      "execution_count": 4,
      "outputs": [
        {
          "output_type": "stream",
          "name": "stdout",
          "text": [
            "Epoch 1/10\n",
            "1563/1563 [==============================] - 55s 34ms/step - loss: 7.5231 - accuracy: 0.1901 - val_loss: 7.3725 - val_accuracy: 0.2725\n",
            "Epoch 2/10\n",
            "1563/1563 [==============================] - 56s 36ms/step - loss: 7.4297 - accuracy: 0.2024 - val_loss: 7.4792 - val_accuracy: 0.1331\n",
            "Epoch 3/10\n",
            "1563/1563 [==============================] - 58s 37ms/step - loss: 7.3737 - accuracy: 0.2470 - val_loss: 7.2961 - val_accuracy: 0.2869\n",
            "Epoch 4/10\n",
            "1563/1563 [==============================] - 52s 34ms/step - loss: 7.3514 - accuracy: 0.2524 - val_loss: 7.3660 - val_accuracy: 0.2307\n",
            "Epoch 5/10\n",
            "1563/1563 [==============================] - 53s 34ms/step - loss: 7.4069 - accuracy: 0.2139 - val_loss: 7.2851 - val_accuracy: 0.2822\n",
            "Epoch 6/10\n",
            "1563/1563 [==============================] - 52s 34ms/step - loss: 7.4095 - accuracy: 0.2124 - val_loss: 7.3473 - val_accuracy: 0.2628\n",
            "Epoch 7/10\n",
            "1563/1563 [==============================] - 56s 36ms/step - loss: 7.3241 - accuracy: 0.2698 - val_loss: 7.2242 - val_accuracy: 0.3186\n",
            "Epoch 8/10\n",
            "1563/1563 [==============================] - 52s 33ms/step - loss: 7.3163 - accuracy: 0.2781 - val_loss: 7.2067 - val_accuracy: 0.3228\n",
            "Epoch 9/10\n",
            "1563/1563 [==============================] - 54s 35ms/step - loss: 7.2967 - accuracy: 0.2803 - val_loss: 7.3263 - val_accuracy: 0.2940\n",
            "Epoch 10/10\n",
            "1563/1563 [==============================] - 59s 38ms/step - loss: 7.2707 - accuracy: 0.2885 - val_loss: 7.2945 - val_accuracy: 0.3040\n"
          ]
        },
        {
          "output_type": "execute_result",
          "data": {
            "text/plain": [
              "<keras.callbacks.History at 0x7fe19939c1c0>"
            ]
          },
          "metadata": {},
          "execution_count": 4
        }
      ]
    },
    {
      "cell_type": "code",
      "source": [],
      "metadata": {
        "id": "D4JnB_Nx_PUE"
      },
      "execution_count": null,
      "outputs": []
    },
    {
      "cell_type": "code",
      "source": [
        "import numpy as np\n",
        "test_accuracy = [0.2725,0.1331,0.2869,0.2307,0.2822,0.2628,0.3186,0.3228,0.2940, 0.3040]\n",
        "train_accuracy = [0.1901,0.2024,0.2470,0.2524,0.2139,0.2124,0.2698,0.2781,0.2803,0.2885]\n",
        "\n",
        "plt.plot(train_accuracy)\n",
        "plt.plot(test_accuracy)\n",
        "plt.xticks(np.arange(10))\n",
        "plt.legend(['train', 'test'])\n",
        "plt.ylabel('accuracy')\n",
        "plt.xlabel('epoch')"
      ],
      "metadata": {
        "colab": {
          "base_uri": "https://localhost:8080/",
          "height": 296
        },
        "id": "t008OJwi_6pW",
        "outputId": "82448401-7425-4f14-ab9c-9111438fe54b"
      },
      "execution_count": 8,
      "outputs": [
        {
          "output_type": "execute_result",
          "data": {
            "text/plain": [
              "Text(0.5, 0, 'epoch')"
            ]
          },
          "metadata": {},
          "execution_count": 8
        },
        {
          "output_type": "display_data",
          "data": {
            "text/plain": [
              "<Figure size 432x288 with 1 Axes>"
            ],
            "image/png": "[encoded data removed]"
          },
          "metadata": {
            "needs_background": "light"
          }
        }
      ]
    },
    {
      "cell_type": "code",
      "source": [
        "\n",
        "\n",
        "import tensorflow as tf\n",
        "from tensorflow.keras.applications.resnet50 import ResNet50\n",
        "import tensorflow as tf\n",
        "from tensorflow.keras import layers\n",
        "from tensorflow.keras.models import Sequential\n",
        "\n",
        "(train_images, train_labels), (test_images, test_labels) = tf.keras.datasets.cifar10.load_data()\n",
        "train_labels = tf.keras.utils.to_categorical(train_labels)\n",
        "test_labels = tf.keras.utils.to_categorical(test_labels)\n",
        "\n",
        "model = Sequential()\n",
        "model.add(layers.Conv2D(filters = 32, kernel_size = 5, activation = 'relu', input_shape = (32, 32, 3)))\n",
        "\n",
        "model.add(layers.MaxPooling2D(pool_size = (2, 2)))\n",
        "model.add(layers.Conv2D(filters = 32, kernel_size = 3, activation = 'relu'))\n",
        "model.add(layers.MaxPooling2D(pool_size = (2, 2)))\n",
        "\n",
        "model.add(layers.Flatten())\n",
        "model.add(layers.Dense(units = 256, activation = 'relu'))\n",
        "model.add(layers.Dense(units = 10, activation = 'relu'))\n",
        "\n",
        "model.compile(loss = 'categorical_crossentropy', optimizer = 'adam', metrics = ['accuracy'])\n",
        "\n",
        "model.fit(train_images, train_labels, epochs=10, batch_size=32, validation_data=(test_images, test_labels))"
      ],
      "metadata": {
        "colab": {
          "base_uri": "https://localhost:8080/"
        },
        "id": "p9tJ9F86_K4l",
        "outputId": "5e4a9380-276e-4988-ca2e-d21a236aead1"
      },
      "execution_count": 7,
      "outputs": [
        {
          "output_type": "stream",
          "name": "stdout",
          "text": [
            "Epoch 1/10\n",
            "1563/1563 [==============================] - 68s 43ms/step - loss: 7.1977 - accuracy: 0.1351 - val_loss: 4.7781 - val_accuracy: 0.2008\n",
            "Epoch 2/10\n",
            "1563/1563 [==============================] - 69s 44ms/step - loss: 4.7916 - accuracy: 0.2067 - val_loss: 4.8426 - val_accuracy: 0.1265\n",
            "Epoch 3/10\n",
            "1563/1563 [==============================] - 80s 51ms/step - loss: 4.8275 - accuracy: 0.1771 - val_loss: 4.7719 - val_accuracy: 0.2117\n",
            "Epoch 4/10\n",
            "1563/1563 [==============================] - 81s 52ms/step - loss: 4.7855 - accuracy: 0.2105 - val_loss: 4.6701 - val_accuracy: 0.2973\n",
            "Epoch 5/10\n",
            "1563/1563 [==============================] - 68s 43ms/step - loss: 4.7442 - accuracy: 0.2411 - val_loss: 4.7178 - val_accuracy: 0.2170\n",
            "Epoch 6/10\n",
            "1563/1563 [==============================] - 64s 41ms/step - loss: 4.6449 - accuracy: 0.3067 - val_loss: 4.6437 - val_accuracy: 0.3295\n",
            "Epoch 7/10\n",
            "1563/1563 [==============================] - 64s 41ms/step - loss: 4.5877 - accuracy: 0.3162 - val_loss: 4.5985 - val_accuracy: 0.2772\n",
            "Epoch 8/10\n",
            "1563/1563 [==============================] - 65s 41ms/step - loss: 4.5909 - accuracy: 0.3115 - val_loss: 4.8428 - val_accuracy: 0.1399\n",
            "Epoch 9/10\n",
            "1563/1563 [==============================] - 64s 41ms/step - loss: 4.6485 - accuracy: 0.2851 - val_loss: 4.6120 - val_accuracy: 0.2329\n",
            "Epoch 10/10\n",
            "1563/1563 [==============================] - 69s 44ms/step - loss: 4.5355 - accuracy: 0.3502 - val_loss: 5.7191 - val_accuracy: 0.1519\n"
          ]
        },
        {
          "output_type": "execute_result",
          "data": {
            "text/plain": [
              "<keras.callbacks.History at 0x7fe1876928e0>"
            ]
          },
          "metadata": {},
          "execution_count": 7
        }
      ]
    },
    {
      "cell_type": "code",
      "source": [
        "import numpy as np\n",
        "test_accuracy = [0.2008, 01265,0.2117,0.2973,0.2170,0.3295,0.2772,0.1399,0.2329,0.1519]\n",
        "train_accuracy = [0.1351,0.2067,0.1771,0.2105,02411,0.3067,0.3162,0.3115,0.2851,0.3502]\n",
        "\n",
        "plt.plot(train_accuracy)\n",
        "plt.plot(test_accuracy)\n",
        "plt.xticks(np.arange(10))\n",
        "plt.legend(['train', 'test'])\n",
        "plt.ylabel('accuracy')\n",
        "plt.xlabel('epoch')"
      ],
      "metadata": {
        "id": "qE0p_ZqTDYjc"
      },
      "execution_count": null,
      "outputs": []
    },
    {
      "cell_type": "code",
      "source": [
        "import tensorflow as tf\n",
        "from tensorflow.keras.applications.resnet50 import ResNet50\n",
        "import tensorflow as tf\n",
        "from tensorflow.keras import layers\n",
        "from tensorflow.keras.models import Sequential\n",
        "\n",
        "(train_images, train_labels), (test_images, test_labels) = tf.keras.datasets.cifar10.load_data()\n",
        "train_labels = tf.keras.utils.to_categorical(train_labels)\n",
        "test_labels = tf.keras.utils.to_categorical(test_labels)\n",
        "\n",
        "model = Sequential()\n",
        "model.add(layers.Conv2D(32, (3, 3), activation='relu', input_shape=(32, 32, 3)))\n",
        "\n",
        "model.add(layers.MaxPooling2D(pool_size = (2, 2)))\n",
        "model.add(layers.Conv2D(64, (3, 3), activation='relu'))\n",
        "model.add(layers.MaxPooling2D(pool_size = (2, 2)))\n",
        "\n",
        "model.add(layers.Flatten())\n",
        "model.add(layers.Dense(units = 256, activation = 'relu'))\n",
        "model.add(layers.Dense(units = 10, activation = 'relu'))\n",
        "\n",
        "model.compile(loss = 'categorical_crossentropy', optimizer = 'adam', metrics = ['accuracy'])\n",
        "\n",
        "model.fit(train_images, train_labels, epochs=10, batch_size=32, validation_data=(test_images, test_labels))"
      ],
      "metadata": {
        "colab": {
          "base_uri": "https://localhost:8080/"
        },
        "id": "R6W9RScMDBDK",
        "outputId": "57633fa9-fcb1-45ab-9b62-533dbd9126ac"
      },
      "execution_count": 10,
      "outputs": [
        {
          "output_type": "stream",
          "name": "stdout",
          "text": [
            "Epoch 1/10\n",
            "1563/1563 [==============================] - 95s 60ms/step - loss: 7.4447 - accuracy: 0.1474 - val_loss: 6.1704 - val_accuracy: 0.1000\n",
            "Epoch 2/10\n",
            "1563/1563 [==============================] - 98s 63ms/step - loss: 3.6408 - accuracy: 0.1833 - val_loss: 3.3729 - val_accuracy: 0.2673\n",
            "Epoch 3/10\n",
            "1563/1563 [==============================] - 86s 55ms/step - loss: 3.4673 - accuracy: 0.1898 - val_loss: 3.5191 - val_accuracy: 0.2604\n",
            "Epoch 4/10\n",
            "1563/1563 [==============================] - 85s 54ms/step - loss: 3.4875 - accuracy: 0.2031 - val_loss: 3.3985 - val_accuracy: 0.2384\n",
            "Epoch 5/10\n",
            "1563/1563 [==============================] - 81s 52ms/step - loss: 3.4400 - accuracy: 0.2306 - val_loss: 3.3265 - val_accuracy: 0.2553\n",
            "Epoch 6/10\n",
            "1563/1563 [==============================] - 84s 54ms/step - loss: 3.3959 - accuracy: 0.2152 - val_loss: 3.3316 - val_accuracy: 0.2351\n",
            "Epoch 7/10\n",
            "1563/1563 [==============================] - 97s 62ms/step - loss: 3.3730 - accuracy: 0.2515 - val_loss: 3.2361 - val_accuracy: 0.3367\n",
            "Epoch 8/10\n",
            "1563/1563 [==============================] - 82s 53ms/step - loss: 3.3165 - accuracy: 0.2966 - val_loss: 3.5659 - val_accuracy: 0.1032\n",
            "Epoch 9/10\n",
            "1563/1563 [==============================] - 83s 53ms/step - loss: 3.4267 - accuracy: 0.2191 - val_loss: 3.3236 - val_accuracy: 0.2439\n",
            "Epoch 10/10\n",
            "1563/1563 [==============================] - 82s 52ms/step - loss: 3.3591 - accuracy: 0.2522 - val_loss: 3.2169 - val_accuracy: 0.3485\n"
          ]
        },
        {
          "output_type": "execute_result",
          "data": {
            "text/plain": [
              "<keras.callbacks.History at 0x7fe19766e5e0>"
            ]
          },
          "metadata": {},
          "execution_count": 10
        }
      ]
    },
    {
      "cell_type": "code",
      "source": [
        "import numpy as np\n",
        "test_accuracy = [0.1, 0.2673,0.2604,0.2384,0.2553,0.2351,0.3367,0.1032,0.2439,0.3485]\n",
        "train_accuracy = [0.1474,0.1833,0.1898,0.2031,0.2306,0.2152,0.2525,0.2966,0.2191,0.2522]\n",
        "\n",
        "plt.plot(train_accuracy)\n",
        "plt.plot(test_accuracy)\n",
        "plt.xticks(np.arange(10))\n",
        "plt.legend(['train', 'test'])\n",
        "plt.ylabel('accuracy')\n",
        "plt.xlabel('epoch')"
      ],
      "metadata": {
        "colab": {
          "base_uri": "https://localhost:8080/",
          "height": 296
        },
        "id": "dof5ba7gF4EA",
        "outputId": "009a1913-e3b9-40e0-fe12-96e139dcc8e7"
      },
      "execution_count": 12,
      "outputs": [
        {
          "output_type": "execute_result",
          "data": {
            "text/plain": [
              "Text(0.5, 0, 'epoch')"
            ]
          },
          "metadata": {},
          "execution_count": 12
        },
        {
          "output_type": "display_data",
          "data": {
            "text/plain": [
              "<Figure size 432x288 with 1 Axes>"
            ],
            "image/png": "[encoded data removed]"
          },
          "metadata": {
            "needs_background": "light"
          }
        }
      ]
    },
    {
      "cell_type": "code",
      "source": [
        "import tensorflow as tf\n",
        "from tensorflow.keras.applications.resnet50 import ResNet50\n",
        "import tensorflow as tf\n",
        "from tensorflow.keras import layers\n",
        "from tensorflow.keras.models import Sequential\n",
        "\n",
        "(train_images, train_labels), (test_images, test_labels) = tf.keras.datasets.cifar10.load_data()\n",
        "train_labels = tf.keras.utils.to_categorical(train_labels)\n",
        "test_labels = tf.keras.utils.to_categorical(test_labels)\n",
        "\n",
        "model = Sequential()\n",
        "model.add(layers.Conv2D(32, (3, 3), activation='relu', input_shape=(32, 32, 3)))\n",
        "\n",
        "model.add(layers.MaxPooling2D(pool_size = (2, 2)))\n",
        "model.add(layers.Conv2D(64, (3, 3), activation='relu'))\n",
        "model.add(layers.MaxPooling2D(pool_size = (2, 2)))\n",
        "\n",
        "model.add(layers.Flatten())\n",
        "model.add(layers.Dense(units = 256, activation = 'relu'))\n",
        "model.add(layers.Dense(units = 10, activation = 'softmax'))\n",
        "\n",
        "model.compile(loss = 'categorical_crossentropy', optimizer = 'adam', metrics = ['accuracy'])\n",
        "\n",
        "model.fit(train_images, train_labels, epochs=10, batch_size=32, validation_data=(test_images, test_labels))"
      ],
      "metadata": {
        "colab": {
          "base_uri": "https://localhost:8080/"
        },
        "id": "hUh3Kx5pFxBI",
        "outputId": "41cf94f9-fc4e-419f-c61c-93893330012d"
      },
      "execution_count": 11,
      "outputs": [
        {
          "output_type": "stream",
          "name": "stdout",
          "text": [
            "Epoch 1/10\n",
            "1563/1563 [==============================] - 111s 70ms/step - loss: 2.3112 - accuracy: 0.3068 - val_loss: 1.5053 - val_accuracy: 0.4529\n",
            "Epoch 2/10\n",
            "1563/1563 [==============================] - 82s 53ms/step - loss: 1.3511 - accuracy: 0.5201 - val_loss: 1.2637 - val_accuracy: 0.5548\n",
            "Epoch 3/10\n",
            "1563/1563 [==============================] - 81s 52ms/step - loss: 1.1369 - accuracy: 0.6026 - val_loss: 1.1819 - val_accuracy: 0.5905\n",
            "Epoch 4/10\n",
            "1563/1563 [==============================] - 79s 50ms/step - loss: 0.9956 - accuracy: 0.6540 - val_loss: 1.1529 - val_accuracy: 0.6107\n",
            "Epoch 5/10\n",
            "1563/1563 [==============================] - 80s 51ms/step - loss: 0.8776 - accuracy: 0.6953 - val_loss: 1.1883 - val_accuracy: 0.6135\n",
            "Epoch 6/10\n",
            "1563/1563 [==============================] - 79s 51ms/step - loss: 0.7706 - accuracy: 0.7338 - val_loss: 1.2197 - val_accuracy: 0.6238\n",
            "Epoch 7/10\n",
            "1563/1563 [==============================] - 80s 51ms/step - loss: 0.6744 - accuracy: 0.7681 - val_loss: 1.2687 - val_accuracy: 0.6287\n",
            "Epoch 8/10\n",
            "1563/1563 [==============================] - 79s 50ms/step - loss: 0.5833 - accuracy: 0.7992 - val_loss: 1.4939 - val_accuracy: 0.6143\n",
            "Epoch 9/10\n",
            "1563/1563 [==============================] - 81s 52ms/step - loss: 0.5074 - accuracy: 0.8263 - val_loss: 1.5756 - val_accuracy: 0.6161\n",
            "Epoch 10/10\n",
            "1563/1563 [==============================] - 82s 52ms/step - loss: 0.4404 - accuracy: 0.8506 - val_loss: 1.6663 - val_accuracy: 0.6187\n"
          ]
        },
        {
          "output_type": "execute_result",
          "data": {
            "text/plain": [
              "<keras.callbacks.History at 0x7fe1974db2e0>"
            ]
          },
          "metadata": {},
          "execution_count": 11
        }
      ]
    },
    {
      "cell_type": "code",
      "source": [
        "import numpy as np\n",
        "test_accuracy = [0.4529,0.5548,0.5905,0.6107,0.6135,0.6238,0.6287, 0.6143,0.6161,0.6187]\n",
        "train_accuracy = [0.3068,0.5201,0.6026,0.6540,0.6953,0.7338,0.7681,0.7992,0.8263,0.8506]\n",
        "\n",
        "plt.plot(train_accuracy)\n",
        "plt.plot(test_accuracy)\n",
        "plt.xticks(np.arange(10))\n",
        "plt.legend(['train', 'test'])\n",
        "plt.ylabel('accuracy')\n",
        "plt.xlabel('epoch')"
      ],
      "metadata": {
        "colab": {
          "base_uri": "https://localhost:8080/",
          "height": 296
        },
        "id": "7ZnvPuM_GGHA",
        "outputId": "be071e23-e8cc-4a7c-cef1-21e61622cea1"
      },
      "execution_count": 13,
      "outputs": [
        {
          "output_type": "execute_result",
          "data": {
            "text/plain": [
              "Text(0.5, 0, 'epoch')"
            ]
          },
          "metadata": {},
          "execution_count": 13
        },
        {
          "output_type": "display_data",
          "data": {
            "text/plain": [
              "<Figure size 432x288 with 1 Axes>"
            ],
            "image/png": "[encoded data removed]"
          },
          "metadata": {
            "needs_background": "light"
          }
        }
      ]
    }
  ]
}